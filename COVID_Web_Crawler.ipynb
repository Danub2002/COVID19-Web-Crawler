{
  "cells": [
    {
      "cell_type": "code",
      "execution_count": 2,
      "metadata": {
        "id": "17mLjBY7vBIA"
      },
      "outputs": [],
      "source": [
        "import requests as req\n",
        "from bs4 import BeautifulSoup\n",
        "import numpy as np\n",
        "import pandas as pd\n"
      ]
    },
    {
      "cell_type": "code",
      "execution_count": 3,
      "metadata": {
        "id": "Ws_NKgBGve8Z"
      },
      "outputs": [],
      "source": [
        "html = req.get(\"https://www.worldometers.info/coronavirus/\")\n"
      ]
    },
    {
      "cell_type": "markdown",
      "metadata": {
        "id": "khhGJimHvsXf"
      },
      "source": [
        "<font size = \"5\"> **1. Parse HTML** </font>"
      ]
    },
    {
      "cell_type": "code",
      "execution_count": 4,
      "metadata": {
        "id": "7b6lEG0Rvxer"
      },
      "outputs": [],
      "source": [
        "# Converting the html to python object\n",
        "html_parsed = BeautifulSoup(html.content)\n",
        "\n",
        "# Finding the table that we want\n",
        "table = html_parsed.find(\"table\", attrs = {\"id\": \"main_table_countries_today\"})\n"
      ]
    },
    {
      "cell_type": "code",
      "execution_count": 5,
      "metadata": {
        "colab": {
          "base_uri": "https://localhost:8080/"
        },
        "id": "7t1iAzNVxGNB",
        "outputId": "abaec966-476c-49e3-ed99-06d3ffcb4200"
      },
      "outputs": [
        {
          "data": {
            "text/plain": [
              "<tr>\n",
              "<th width=\"1%\">#</th>\n",
              "<th width=\"100\">Country,<br>Other</br></th>\n",
              "<th width=\"20\">Total<br>Cases</br></th>\n",
              "<th width=\"30\">New<br>Cases</br></th>\n",
              "<th width=\"30\">Total<br>Deaths</br></th>\n",
              "<th width=\"30\">New<br>Deaths</br></th>\n",
              "<th width=\"30\">Total<br>Recovered</br></th>\n",
              "<th width=\"30\">New<br>Recovered</br></th>\n",
              "<th width=\"30\">Active<br/>Cases</th>\n",
              "<th width=\"30\">Serious,<br/>Critical</th>\n",
              "<th width=\"30\">Tot Cases/<br/>1M pop</th>\n",
              "<th width=\"30\">Deaths/<br/>1M pop</th>\n",
              "<th width=\"30\">Total<br/>Tests</th>\n",
              "<th width=\"30\">Tests/<br/>\n",
              "<nobr>1M pop</nobr>\n",
              "</th>\n",
              "<th width=\"30\">Population</th>\n",
              "<th style=\"display:none\" width=\"30\">Continent</th>\n",
              "<th width=\"30\">1 Case<br/>every X ppl</th><th width=\"30\">1 Death<br/>every X ppl</th><th width=\"30\">1 Test<br/>every X ppl</th>\n",
              "<th width=\"30\">New Cases/1M pop</th>\n",
              "<th width=\"30\">New Deaths/1M pop</th>\n",
              "<th width=\"30\">Active Cases/1M pop</th>\n",
              "</tr>"
            ]
          },
          "execution_count": 5,
          "metadata": {},
          "output_type": "execute_result"
        }
      ],
      "source": [
        "# Getting all the rows\n",
        "\n",
        "rows = table.find_all(\"tr\")\n",
        "\n",
        "rows[0]"
      ]
    },
    {
      "cell_type": "code",
      "execution_count": 6,
      "metadata": {
        "colab": {
          "base_uri": "https://localhost:8080/",
          "height": 53
        },
        "id": "Ju9IJ4SYxmk9",
        "outputId": "b2886803-76f2-474a-8286-27cbc162720c"
      },
      "outputs": [
        {
          "data": {
            "text/plain": [
              "'#\\nCountry,Other\\nTotalCases\\nNewCases\\nTotalDeaths\\nNewDeaths\\nTotalRecovered\\nNewRecovered\\nActiveCases\\nSerious,Critical\\nTot\\xa0Cases/1M pop\\nDeaths/1M pop\\nTotalTests\\nTests/\\n1M pop\\n\\nPopulation\\nContinent\\n1 Caseevery X ppl1 Deathevery X ppl1 Testevery X ppl\\nNew Cases/1M pop\\nNew Deaths/1M pop\\nActive Cases/1M pop'"
            ]
          },
          "execution_count": 6,
          "metadata": {},
          "output_type": "execute_result"
        }
      ],
      "source": [
        "rows[0].text.strip()"
      ]
    },
    {
      "cell_type": "code",
      "execution_count": 7,
      "metadata": {
        "colab": {
          "base_uri": "https://localhost:8080/"
        },
        "id": "Xi2KBU_Zxtq2",
        "outputId": "2f32c113-b3ac-4226-8ac7-e5ca619539c9"
      },
      "outputs": [
        {
          "data": {
            "text/plain": [
              "['1',\n",
              " 'USA',\n",
              " '99,859,908',\n",
              " '',\n",
              " '1,099,856                                ',\n",
              " '',\n",
              " '97,366,559',\n",
              " '',\n",
              " '1,393,493',\n",
              " '2,683',\n",
              " '298,263',\n",
              " '3,285',\n",
              " '1,133,924,923',\n",
              " '3,386,819',\n",
              " '334,805,269 ',\n",
              " 'North America',\n",
              " '',\n",
              " '33040',\n",
              " '',\n",
              " '',\n",
              " '4,162']"
            ]
          },
          "execution_count": 7,
          "metadata": {},
          "output_type": "execute_result"
        }
      ],
      "source": [
        "# Tokenization\n",
        "\n",
        "# The table of per countries starts at the 9 index\n",
        "\n",
        "rows[9].text.strip().split(\"\\n\")"
      ]
    },
    {
      "cell_type": "markdown",
      "metadata": {
        "id": "lEwUaR4hycgv"
      },
      "source": [
        "<font size = \"5\">**2. Storing The Data** </font>\n",
        "\n",
        "\n"
      ]
    },
    {
      "cell_type": "code",
      "execution_count": 8,
      "metadata": {
        "colab": {
          "base_uri": "https://localhost:8080/"
        },
        "id": "zRnPl0InyeyQ",
        "outputId": "f523c885-9a43-45b0-c1d0-57fc4df14479"
      },
      "outputs": [],
      "source": [
        "data = []\n",
        "\n",
        "for row in rows:\n",
        "  data.append(row.text.strip().split(\"\\n\")[1:5]) # Catch only the first 5 columns\n",
        "  "
      ]
    },
    {
      "cell_type": "code",
      "execution_count": 9,
      "metadata": {
        "colab": {
          "base_uri": "https://localhost:8080/",
          "height": 206
        },
        "id": "UuJLbXhOymjW",
        "outputId": "142a381e-c842-415d-d431-fa194f8792ca"
      },
      "outputs": [
        {
          "data": {
            "text/html": [
              "<div>\n",
              "<style scoped>\n",
              "    .dataframe tbody tr th:only-of-type {\n",
              "        vertical-align: middle;\n",
              "    }\n",
              "\n",
              "    .dataframe tbody tr th {\n",
              "        vertical-align: top;\n",
              "    }\n",
              "\n",
              "    .dataframe thead th {\n",
              "        text-align: right;\n",
              "    }\n",
              "</style>\n",
              "<table border=\"1\" class=\"dataframe\">\n",
              "  <thead>\n",
              "    <tr style=\"text-align: right;\">\n",
              "      <th></th>\n",
              "      <th>0</th>\n",
              "      <th>1</th>\n",
              "      <th>2</th>\n",
              "      <th>3</th>\n",
              "    </tr>\n",
              "  </thead>\n",
              "  <tbody>\n",
              "    <tr>\n",
              "      <th>0</th>\n",
              "      <td>Country,Other</td>\n",
              "      <td>TotalCases</td>\n",
              "      <td>NewCases</td>\n",
              "      <td>TotalDeaths</td>\n",
              "    </tr>\n",
              "    <tr>\n",
              "      <th>1</th>\n",
              "      <td></td>\n",
              "      <td>118,343,936</td>\n",
              "      <td>+1,064</td>\n",
              "      <td>1,557,463</td>\n",
              "    </tr>\n",
              "    <tr>\n",
              "      <th>2</th>\n",
              "      <td></td>\n",
              "      <td>195,576,005</td>\n",
              "      <td>+163,538</td>\n",
              "      <td>1,492,061</td>\n",
              "    </tr>\n",
              "    <tr>\n",
              "      <th>3</th>\n",
              "      <td></td>\n",
              "      <td>235,607,456</td>\n",
              "      <td>+8,831</td>\n",
              "      <td>1,949,155</td>\n",
              "    </tr>\n",
              "    <tr>\n",
              "      <th>4</th>\n",
              "      <td></td>\n",
              "      <td>64,570,003</td>\n",
              "      <td>+33</td>\n",
              "      <td>1,333,810</td>\n",
              "    </tr>\n",
              "  </tbody>\n",
              "</table>\n",
              "</div>"
            ],
            "text/plain": [
              "               0            1         2            3\n",
              "0  Country,Other   TotalCases  NewCases  TotalDeaths\n",
              "1                 118,343,936    +1,064    1,557,463\n",
              "2                 195,576,005  +163,538    1,492,061\n",
              "3                 235,607,456    +8,831    1,949,155\n",
              "4                  64,570,003       +33    1,333,810"
            ]
          },
          "execution_count": 9,
          "metadata": {},
          "output_type": "execute_result"
        }
      ],
      "source": [
        "# Creating a DataFrame\n",
        "\n",
        "df = pd.DataFrame(data)\n",
        "df.head()"
      ]
    },
    {
      "cell_type": "code",
      "execution_count": 10,
      "metadata": {
        "colab": {
          "base_uri": "https://localhost:8080/",
          "height": 206
        },
        "id": "nwsu7NedzYmK",
        "outputId": "eb2c049d-b14d-4bbd-ffb7-f1f3d05de63e"
      },
      "outputs": [
        {
          "data": {
            "text/html": [
              "<div>\n",
              "<style scoped>\n",
              "    .dataframe tbody tr th:only-of-type {\n",
              "        vertical-align: middle;\n",
              "    }\n",
              "\n",
              "    .dataframe tbody tr th {\n",
              "        vertical-align: top;\n",
              "    }\n",
              "\n",
              "    .dataframe thead th {\n",
              "        text-align: right;\n",
              "    }\n",
              "</style>\n",
              "<table border=\"1\" class=\"dataframe\">\n",
              "  <thead>\n",
              "    <tr style=\"text-align: right;\">\n",
              "      <th></th>\n",
              "      <th>Country,Other</th>\n",
              "      <th>TotalCases</th>\n",
              "      <th>NewCases</th>\n",
              "      <th>TotalDeaths</th>\n",
              "    </tr>\n",
              "  </thead>\n",
              "  <tbody>\n",
              "    <tr>\n",
              "      <th>0</th>\n",
              "      <td>USA</td>\n",
              "      <td>99,859,908</td>\n",
              "      <td></td>\n",
              "      <td>1,099,856</td>\n",
              "    </tr>\n",
              "    <tr>\n",
              "      <th>1</th>\n",
              "      <td>India</td>\n",
              "      <td>44,664,810</td>\n",
              "      <td></td>\n",
              "      <td>530,520</td>\n",
              "    </tr>\n",
              "    <tr>\n",
              "      <th>2</th>\n",
              "      <td>France</td>\n",
              "      <td>37,068,088</td>\n",
              "      <td></td>\n",
              "      <td>157,671</td>\n",
              "    </tr>\n",
              "    <tr>\n",
              "      <th>3</th>\n",
              "      <td>Germany</td>\n",
              "      <td>36,005,025</td>\n",
              "      <td></td>\n",
              "      <td>155,403</td>\n",
              "    </tr>\n",
              "    <tr>\n",
              "      <th>4</th>\n",
              "      <td>Brazil</td>\n",
              "      <td>34,928,504</td>\n",
              "      <td></td>\n",
              "      <td>688,659</td>\n",
              "    </tr>\n",
              "  </tbody>\n",
              "</table>\n",
              "</div>"
            ],
            "text/plain": [
              "  Country,Other  TotalCases NewCases  \\\n",
              "0           USA  99,859,908            \n",
              "1         India  44,664,810            \n",
              "2        France  37,068,088            \n",
              "3       Germany  36,005,025            \n",
              "4        Brazil  34,928,504            \n",
              "\n",
              "                                 TotalDeaths  \n",
              "0  1,099,856                                  \n",
              "1    530,520                                  \n",
              "2    157,671                                  \n",
              "3    155,403                                  \n",
              "4    688,659                                  "
            ]
          },
          "execution_count": 10,
          "metadata": {},
          "output_type": "execute_result"
        }
      ],
      "source": [
        "# As our first country is ate index 9 we need to slice the dataframe\n",
        "\n",
        "df = pd.DataFrame(data[9:], columns = data[0])\n",
        "df.head()"
      ]
    },
    {
      "cell_type": "code",
      "execution_count": 11,
      "metadata": {
        "id": "0hTCoULW0Jbh"
      },
      "outputs": [],
      "source": [
        "df.to_csv(\"covid19.csv\")"
      ]
    },
    {
      "cell_type": "markdown",
      "metadata": {
        "id": "qCheA5o10VwV"
      },
      "source": [
        "<font size = \"5\">**3. Visualizing The Data**</font>"
      ]
    },
    {
      "cell_type": "code",
      "execution_count": 12,
      "metadata": {
        "id": "GWMlNhUP0aB_"
      },
      "outputs": [],
      "source": [
        "# getting the country and total cases columns\n",
        "\n",
        "df_plot = df[[\"Country,Other\",\"TotalCases\"]]\n",
        "\n",
        "# getting the first 10 rows\n",
        "df_plot = df_plot[:10]"
      ]
    },
    {
      "cell_type": "code",
      "execution_count": 13,
      "metadata": {
        "colab": {
          "base_uri": "https://localhost:8080/",
          "height": 206
        },
        "id": "mHcwfHK80_a8",
        "outputId": "c7732f33-3d0f-4212-bece-741a0a480fef"
      },
      "outputs": [
        {
          "data": {
            "text/html": [
              "<div>\n",
              "<style scoped>\n",
              "    .dataframe tbody tr th:only-of-type {\n",
              "        vertical-align: middle;\n",
              "    }\n",
              "\n",
              "    .dataframe tbody tr th {\n",
              "        vertical-align: top;\n",
              "    }\n",
              "\n",
              "    .dataframe thead th {\n",
              "        text-align: right;\n",
              "    }\n",
              "</style>\n",
              "<table border=\"1\" class=\"dataframe\">\n",
              "  <thead>\n",
              "    <tr style=\"text-align: right;\">\n",
              "      <th></th>\n",
              "      <th>Country,Other</th>\n",
              "      <th>TotalCases</th>\n",
              "    </tr>\n",
              "  </thead>\n",
              "  <tbody>\n",
              "    <tr>\n",
              "      <th>0</th>\n",
              "      <td>USA</td>\n",
              "      <td>99,859,908</td>\n",
              "    </tr>\n",
              "    <tr>\n",
              "      <th>1</th>\n",
              "      <td>India</td>\n",
              "      <td>44,664,810</td>\n",
              "    </tr>\n",
              "    <tr>\n",
              "      <th>2</th>\n",
              "      <td>France</td>\n",
              "      <td>37,068,088</td>\n",
              "    </tr>\n",
              "    <tr>\n",
              "      <th>3</th>\n",
              "      <td>Germany</td>\n",
              "      <td>36,005,025</td>\n",
              "    </tr>\n",
              "    <tr>\n",
              "      <th>4</th>\n",
              "      <td>Brazil</td>\n",
              "      <td>34,928,504</td>\n",
              "    </tr>\n",
              "  </tbody>\n",
              "</table>\n",
              "</div>"
            ],
            "text/plain": [
              "  Country,Other  TotalCases\n",
              "0           USA  99,859,908\n",
              "1         India  44,664,810\n",
              "2        France  37,068,088\n",
              "3       Germany  36,005,025\n",
              "4        Brazil  34,928,504"
            ]
          },
          "execution_count": 13,
          "metadata": {},
          "output_type": "execute_result"
        }
      ],
      "source": [
        "# Check the DataFrame\n",
        "\n",
        "df_plot.head()"
      ]
    },
    {
      "cell_type": "code",
      "execution_count": 14,
      "metadata": {
        "colab": {
          "base_uri": "https://localhost:8080/",
          "height": 206
        },
        "id": "gV8PJXub1bx-",
        "outputId": "622399e9-eef5-45ef-f9b2-b41439b456cd"
      },
      "outputs": [
        {
          "data": {
            "text/html": [
              "<div>\n",
              "<style scoped>\n",
              "    .dataframe tbody tr th:only-of-type {\n",
              "        vertical-align: middle;\n",
              "    }\n",
              "\n",
              "    .dataframe tbody tr th {\n",
              "        vertical-align: top;\n",
              "    }\n",
              "\n",
              "    .dataframe thead th {\n",
              "        text-align: right;\n",
              "    }\n",
              "</style>\n",
              "<table border=\"1\" class=\"dataframe\">\n",
              "  <thead>\n",
              "    <tr style=\"text-align: right;\">\n",
              "      <th></th>\n",
              "      <th>Country,Other</th>\n",
              "      <th>TotalCases</th>\n",
              "    </tr>\n",
              "  </thead>\n",
              "  <tbody>\n",
              "    <tr>\n",
              "      <th>0</th>\n",
              "      <td>USA</td>\n",
              "      <td>99859908</td>\n",
              "    </tr>\n",
              "    <tr>\n",
              "      <th>1</th>\n",
              "      <td>India</td>\n",
              "      <td>44664810</td>\n",
              "    </tr>\n",
              "    <tr>\n",
              "      <th>2</th>\n",
              "      <td>France</td>\n",
              "      <td>37068088</td>\n",
              "    </tr>\n",
              "    <tr>\n",
              "      <th>3</th>\n",
              "      <td>Germany</td>\n",
              "      <td>36005025</td>\n",
              "    </tr>\n",
              "    <tr>\n",
              "      <th>4</th>\n",
              "      <td>Brazil</td>\n",
              "      <td>34928504</td>\n",
              "    </tr>\n",
              "  </tbody>\n",
              "</table>\n",
              "</div>"
            ],
            "text/plain": [
              "  Country,Other  TotalCases\n",
              "0           USA    99859908\n",
              "1         India    44664810\n",
              "2        France    37068088\n",
              "3       Germany    36005025\n",
              "4        Brazil    34928504"
            ]
          },
          "execution_count": 14,
          "metadata": {},
          "output_type": "execute_result"
        }
      ],
      "source": [
        "# Our TotalCases axis is a string we need to convert it to int\n",
        "df_plot[\"TotalCases\"] = df_plot[\"TotalCases\"].apply(lambda x: str(x).replace(\",\",\"\")).astype(int)\n",
        "\n",
        "df_plot.head()"
      ]
    },
    {
      "cell_type": "code",
      "execution_count": 15,
      "metadata": {
        "colab": {
          "base_uri": "https://localhost:8080/",
          "height": 343
        },
        "id": "NyV59ebV3Znz",
        "outputId": "f50ef98d-3611-4f2a-e542-08c5af5bd289"
      },
      "outputs": [
        {
          "data": {
            "text/plain": [
              "<AxesSubplot: xlabel='Country,Other'>"
            ]
          },
          "execution_count": 15,
          "metadata": {},
          "output_type": "execute_result"
        },
        {
          "data": {
            "image/png": "[encoded data removed]",
            "text/plain": [
              "<Figure size 432x288 with 1 Axes>"
            ]
          },
          "metadata": {
            "needs_background": "light"
          },
          "output_type": "display_data"
        }
      ],
      "source": [
        "df_plot.plot(kind = \"bar\", x = \"Country,Other\", y = \"TotalCases\")"
      ]
    }
  ],
  "metadata": {
    "colab": {
      "provenance": []
    },
    "kernelspec": {
      "display_name": "Python 3.9.13 64-bit (microsoft store)",
      "language": "python",
      "name": "python3"
    },
    "language_info": {
      "codemirror_mode": {
        "name": "ipython",
        "version": 3
      },
      "file_extension": ".py",
      "mimetype": "text/x-python",
      "name": "python",
      "nbconvert_exporter": "python",
      "pygments_lexer": "ipython3",
      "version": "3.9.13"
    },
    "vscode": {
      "interpreter": {
        "hash": "c1e6e5819d6f421993b34cadcbcb7034deb55d68c5ca95b4678c0ad41adb21de"
      }
    }
  },
  "nbformat": 4,
  "nbformat_minor": 0
}
