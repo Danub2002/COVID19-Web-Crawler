{
  "nbformat": 4,
  "nbformat_minor": 0,
  "metadata": {
    "colab": {
      "provenance": []
    },
    "kernelspec": {
      "name": "python3",
      "display_name": "Python 3"
    },
    "language_info": {
      "name": "python"
    }
  },
  "cells": [
    {
      "cell_type": "code",
      "execution_count": 55,
      "metadata": {
        "id": "17mLjBY7vBIA"
      },
      "outputs": [],
      "source": [
        "import requests as req\n",
        "from bs4 import BeautifulSoup\n",
        "import numpy as np\n",
        "import pandas as pd\n"
      ]
    },
    {
      "cell_type": "code",
      "source": [
        "html = req.get(\"https://www.worldometers.info/coronavirus/\")\n"
      ],
      "metadata": {
        "id": "Ws_NKgBGve8Z"
      },
      "execution_count": 56,
      "outputs": []
    },
    {
      "cell_type": "markdown",
      "source": [
        "**1.** **Parse HTML**"
      ],
      "metadata": {
        "id": "khhGJimHvsXf"
      }
    },
    {
      "cell_type": "code",
      "source": [
        "# Converting the html to python object\n",
        "html_parsed = BeautifulSoup(html.content)\n",
        "\n",
        "# Finding the table that we want\n",
        "table = html_parsed.find(\"table\", attrs = {\"id\": \"main_table_countries_today\"})\n"
      ],
      "metadata": {
        "id": "7b6lEG0Rvxer"
      },
      "execution_count": 57,
      "outputs": []
    },
    {
      "cell_type": "code",
      "source": [
        "# Getting all the rows\n",
        "\n",
        "rows = table.find_all(\"tr\")\n",
        "\n",
        "rows[0]"
      ],
      "metadata": {
        "colab": {
          "base_uri": "https://localhost:8080/"
        },
        "id": "7t1iAzNVxGNB",
        "outputId": "abaec966-476c-49e3-ed99-06d3ffcb4200"
      },
      "execution_count": 58,
      "outputs": [
        {
          "output_type": "execute_result",
          "data": {
            "text/plain": [
              "<tr>\n",
              "<th width=\"1%\">#</th>\n",
              "<th width=\"100\">Country,<br/>Other</th>\n",
              "<th width=\"20\">Total<br/>Cases</th>\n",
              "<th width=\"30\">New<br/>Cases</th>\n",
              "<th width=\"30\">Total<br/>Deaths</th>\n",
              "<th width=\"30\">New<br/>Deaths</th>\n",
              "<th width=\"30\">Total<br/>Recovered</th>\n",
              "<th width=\"30\">New<br/>Recovered</th>\n",
              "<th width=\"30\">Active<br/>Cases</th>\n",
              "<th width=\"30\">Serious,<br/>Critical</th>\n",
              "<th width=\"30\">Tot Cases/<br/>1M pop</th>\n",
              "<th width=\"30\">Deaths/<br/>1M pop</th>\n",
              "<th width=\"30\">Total<br/>Tests</th>\n",
              "<th width=\"30\">Tests/<br/>\n",
              "<nobr>1M pop</nobr>\n",
              "</th>\n",
              "<th width=\"30\">Population</th>\n",
              "<th style=\"display:none\" width=\"30\">Continent</th>\n",
              "<th width=\"30\">1 Case<br/>every X ppl</th><th width=\"30\">1 Death<br/>every X ppl</th><th width=\"30\">1 Test<br/>every X ppl</th>\n",
              "<th width=\"30\">New Cases/1M pop</th>\n",
              "<th width=\"30\">New Deaths/1M pop</th>\n",
              "<th width=\"30\">Active Cases/1M pop</th>\n",
              "</tr>"
            ]
          },
          "metadata": {},
          "execution_count": 58
        }
      ]
    },
    {
      "cell_type": "code",
      "source": [
        "rows[0].text.strip()"
      ],
      "metadata": {
        "colab": {
          "base_uri": "https://localhost:8080/",
          "height": 53
        },
        "id": "Ju9IJ4SYxmk9",
        "outputId": "b2886803-76f2-474a-8286-27cbc162720c"
      },
      "execution_count": 59,
      "outputs": [
        {
          "output_type": "execute_result",
          "data": {
            "text/plain": [
              "'#\\nCountry,Other\\nTotalCases\\nNewCases\\nTotalDeaths\\nNewDeaths\\nTotalRecovered\\nNewRecovered\\nActiveCases\\nSerious,Critical\\nTot\\xa0Cases/1M pop\\nDeaths/1M pop\\nTotalTests\\nTests/\\n1M pop\\n\\nPopulation\\nContinent\\n1 Caseevery X ppl1 Deathevery X ppl1 Testevery X ppl\\nNew Cases/1M pop\\nNew Deaths/1M pop\\nActive Cases/1M pop'"
            ],
            "application/vnd.google.colaboratory.intrinsic+json": {
              "type": "string"
            }
          },
          "metadata": {},
          "execution_count": 59
        }
      ]
    },
    {
      "cell_type": "code",
      "source": [
        "# Tokenization\n",
        "\n",
        "# The table of per countries starts at the 9 index\n",
        "\n",
        "rows[9].text.strip().split(\"\\n\")"
      ],
      "metadata": {
        "colab": {
          "base_uri": "https://localhost:8080/"
        },
        "id": "Xi2KBU_Zxtq2",
        "outputId": "2f32c113-b3ac-4226-8ac7-e5ca619539c9"
      },
      "execution_count": 60,
      "outputs": [
        {
          "output_type": "execute_result",
          "data": {
            "text/plain": [
              "['1',\n",
              " 'USA',\n",
              " '99,859,908',\n",
              " '',\n",
              " '1,099,856                                ',\n",
              " '',\n",
              " '97,366,559',\n",
              " '',\n",
              " '1,393,493',\n",
              " '2,683',\n",
              " '298,263',\n",
              " '3,285',\n",
              " '1,133,924,923',\n",
              " '3,386,819',\n",
              " '334,805,269 ',\n",
              " 'North America',\n",
              " '',\n",
              " '33040',\n",
              " '',\n",
              " '',\n",
              " '4,162']"
            ]
          },
          "metadata": {},
          "execution_count": 60
        }
      ]
    },
    {
      "cell_type": "markdown",
      "source": [
        "**2.** **Storing The Data** \n",
        "\n",
        "\n"
      ],
      "metadata": {
        "id": "lEwUaR4hycgv"
      }
    },
    {
      "cell_type": "code",
      "source": [
        "data = []\n",
        "\n",
        "for row in rows:\n",
        "  data.append(row.text.strip().split(\"\\n\")[1:5]) # Catch only the first 5 columns\n",
        "  \n",
        "print(data)"
      ],
      "metadata": {
        "id": "zRnPl0InyeyQ",
        "colab": {
          "base_uri": "https://localhost:8080/"
        },
        "outputId": "f523c885-9a43-45b0-c1d0-57fc4df14479"
      },
      "execution_count": 61,
      "outputs": [
        {
          "output_type": "stream",
          "name": "stdout",
          "text": [
            "[['Country,Other', 'TotalCases', 'NewCases', 'TotalDeaths'], ['', '118,343,936', '+1,064', '1,557,463'], ['', '195,575,691', '+163,224', '1,492,057'], ['', '235,607,419', '+8,794', '1,949,155'], ['', '64,570,003', '+33', '1,333,810'], ['', '12,738,753', '+10,512', '21,821'], ['', '12,685,305', '', '257,959'], ['', '15', '', '706'], ['639,521,828', '+183,627', '6,612,280', '+365'], ['USA', '99,859,908', '', '1,099,856                                '], ['India', '44,664,810', '', '530,520                                '], ['France', '37,068,088', '', '157,671                                '], ['Germany', '36,005,025', '', '155,403                                '], ['Brazil', '34,928,504', '', '688,659                                '], ['S. Korea', '26,091,539', '+54,519', '29,571                                '], ['UK', '23,930,041', '', '194,704                                '], ['Italy', '23,642,011', '', '179,436                                '], ['Japan', '23,030,330', '+74,093', '47,417                                '], ['Russia', '21,489,074', '+5,554', '390,902                                '], ['Turkey', '16,976,729', '', '101,327                                '], ['Spain', '13,529,643', '', '115,239                                '], ['Vietnam', '11,508,170', '+630', '43,166                                '], ['Australia', '10,476,221', '+10,512', '15,859                                '], ['Argentina', '9,720,232', '', '130,003                                '], ['Netherlands', '8,525,378', '', '22,856                                '], ['Taiwan', '7,996,490', '+20,306', '13,441                                '], ['Iran', '7,558,762', '', '144,607                                '], ['Mexico', '7,116,424', '+1,064', '330,430                                '], ['Indonesia', '6,550,448', '+6,247', '159,035                                '], ['Poland', '6,346,155', '+476', '118,210                                '], ['Colombia', '6,311,359', '', '141,862                                '], ['Portugal', '5,528,365', '', '25,319                                '], ['Austria', '5,481,274', '', '21,069                                '], ['Ukraine', '5,312,632', '', '110,186                                '], ['Greece', '5,250,288', '', '33,888                                '], ['Malaysia', '4,940,456', '', '36,522                                '], ['Chile', '4,818,999', '', '61,923                                '], ['DPRK', '4,772,813', '', '74                                '], ['Thailand', '4,695,207', '', '32,995                                '], ['Israel', '4,693,671', '', '11,788                                '], ['Belgium', '4,622,723', '', '32,976                                '], ['Canada', '4,357,478', '', '46,710                                '], ['Switzerland', '4,256,095', '', '14,275                                '], ['Peru', '4,167,290', '', '217,146                                '], ['Czechia', '4,164,606', '+555', '41,703                                '], ['South Africa', '4,032,109', '', '102,363                                '], ['Philippines', '4,014,039', '', '64,329                                '], ['Romania', '3,291,348', '+361', '67,231                                '], ['Denmark', '3,141,109', '+291', '7,434                                '], ['Sweden', '2,618,688', '', '20,825                                '], ['Iraq', '2,461,857', '', '25,361                                '], ['Serbia', '2,411,691', '', '17,301                                '], ['Hungary', '2,153,564', '', '48,111                                '], ['Singapore', '2,134,319', '', '1,693                                '], ['Bangladesh', '2,036,109', '+48', '29,426                                '], ['Hong Kong', '1,973,906', '+5,599', '10,511                                '], ['New Zealand', '1,872,459', '', '3,144                                '], ['Slovakia', '1,854,168', '+146', '20,663                                '], ['Georgia', '1,785,138', '', '16,912                                '], ['Jordan', '1,746,997', '', '14,122                                '], ['Ireland', '1,675,725', '', '8,061                                '], ['Pakistan', '1,574,549', '+41', '30,629                                '], ['Norway', '1,466,313', '', '4,286                                '], ['Kazakhstan', '1,395,221', '+50', '13,693                                '], ['Finland', '1,372,651', '', '6,913                                '], ['Bulgaria', '1,282,751', '', '37,940                                '], ['Lithuania', '1,271,238', '+255', '9,407                                '], ['Morocco', '1,266,350', '', '16,283                                '], ['Croatia', '1,249,699', '+197', '17,215                                '], ['Slovenia', '1,241,455', '+555', '6,909                                '], ['Lebanon', '1,219,415', '', '10,717                                '], ['Tunisia', '1,146,702', '', '29,263                                '], ['Guatemala', '1,144,358', '', '19,915                                '], ['Costa Rica', '1,138,416', '', '9,009                                '], ['Cuba', '1,111,311', '', '8,530                                '], ['Bolivia', '1,109,763', '+33', '22,243                                '], ['UAE', '1,040,384', '', '2,348                                '], ['Ecuador', '1,009,388', '', '35,935                                '], ['Nepal', '1,000,784', '+9', '12,019                                '], ['Belarus', '994,037', '', '7,118                                '], ['Panama', '991,251', '', '8,509                                '], ['Uruguay', '991,219', '', '7,526                                '], ['Mongolia', '986,599', '', '2,179                                '], ['Latvia', '956,780', '+388', '6,076                                '], ['Saudi Arabia', '824,377', '+104', '9,429                                '], ['Azerbaijan', '823,592', '', '9,957                                '], ['Paraguay', '717,980', '', '19,606                                '], ['Bahrain', '692,885', '', '1,531                                '], ['Sri Lanka', '671,369', '', '16,783                                '], ['Kuwait', '662,359', '', '2,569                                '], ['Dominican Republic', '647,205', '', '4,384                                '], ['Myanmar', '632,522', '', '19,486                                '], ['Palestine', '620,816', '', '5,404                                '], ['Estonia', '607,780', '', '2,757                                '], ['Cyprus', '602,662', '', '1,200                                '], ['Moldova', '594,163', '', '11,900                                '], ['Venezuela', '546,229', '', '5,823                                '], ['Egypt', '515,645', '', '24,613                                '], ['Libya', '507,060', '', '6,437                                '], ['Ethiopia', '494,119', '', '7,572                                '], ['Réunion', '474,620', '', '899                                '], ['Qatar', '473,234', '+307', '684                                '], ['Honduras', '457,196', '', '11,039                                '], ['Armenia', '445,397', '', '8,709                                '], ['Bosnia and Herzegovina', '400,162', '', '16,184                                '], ['Oman', '398,775', '', '4,260                                '], ['North Macedonia', '344,342', '', '9,564                                '], ['Kenya', '340,114', '', '5,678                                '], ['Zambia', '333,685', '', '4,017                                '], ['Albania', '333,103', '', '3,593                                '], ['Botswana', '326,344', '', '2,790                                '], ['Luxembourg', '297,757', '', '1,133                                '], ['Montenegro', '283,240', '', '2,788                                '], ['Algeria', '270,917', '', '6,881                                '], ['Nigeria', '266,192', '', '3,155                                '], ['Zimbabwe', '257,893', '', '5,606                                '], ['Uzbekistan', '244,878', '', '1,637                                '], ['Brunei ', '241,044', '', '225                                '], ['Mozambique', '230,475', '', '2,224                                '], ['Martinique', '223,728', '', '1,047                                '], ['Laos', '216,335', '+12', '758                                '], ['Iceland', '206,803', '', '219                                '], ['Kyrgyzstan', '206,464', '', '2,991                                '], ['Afghanistan', '204,392', '+50', '7,829                                '], ['El Salvador', '201,785', '', '4,230                                '], ['Guadeloupe', '196,270', '', '993                                '], ['Maldives', '185,454', '', '309                                '], ['Trinidad and Tobago', '184,949', '', '4,257                                '], ['Ghana', '170,894', '', '1,460                                '], ['Namibia', '169,946', '', '4,080                                '], ['Uganda', '169,473', '', '3,630                                '], ['Jamaica', '151,931', '', '3,320                                '], ['Cambodia', '137,996', '', '3,056                                '], ['Rwanda', '132,611', '', '1,467                                '], ['Cameroon', '123,993', '', '1,965                                '], ['Malta', '115,563', '+16', '808                                '], ['Angola', '103,131', '', '1,917                                '], ['Barbados', '103,014', '', '560                                '], ['Channel Islands', '94,879', '', '206                                '], ['French Guiana', '94,421', '', '411                                '], ['DRC', '93,467', '', '1,447                                '], ['Senegal', '88,826', '', '1,968                                '], ['Malawi', '88,073', '', '2,685                                '], ['Ivory Coast', '87,847', '', '829                                '], ['Suriname', '81,228', '', '1,392                                '], ['French Polynesia', '76,797', '', '649                                '], ['New Caledonia', '74,441', '', '314                                '], ['Eswatini', '73,618', '', '1,422                                '], ['Guyana', '71,461', '', '1,281                                '], ['Belize', '68,972', '', '687                                '], ['Fiji', '68,287', '', '878                                '], ['Madagascar', '66,788', '', '1,411                                '], ['Sudan', '63,561', '', '4,980                                '], ['Mauritania', '63,407', '', '997                                '], ['Cabo Verde', '62,646', '', '410                                '], ['Bhutan', '62,430', '', '21                                '], ['Syria', '57,377', '', '3,163                                '], ['Burundi', '50,574', '', '38                                '], ['Seychelles', '49,380', '', '171                                '], ['Gabon', '48,945', '', '306                                '], ['Andorra', '46,664', '', '155                                '], ['Papua New Guinea', '45,691', '', '668                                '], ['Curaçao', '45,489', '', '293                                '], ['Aruba', '43,379', '', '233                                '], ['Mauritius', '40,718', '', '1,031                                '], ['Mayotte', '40,339', '', '187                                '], ['Tanzania', '40,152', '', '845                                '], ['Togo', '39,316', '', '290                                '], ['Guinea', '38,122', '', '458                                '], ['Isle of Man', '38,008', '', '116                                '], ['Bahamas', '37,386', '', '833                                '], ['Faeroe Islands', '34,658', '', '28                                '], ['Lesotho', '34,490', '', '706                                '], ['Haiti', '33,828', '', '860                                '], ['Mali', '32,744', '', '742                                '], ['Cayman Islands', '31,194', '', '36                                '], ['Saint Lucia', '29,550', '', '404                                '], ['Benin', '27,912', '', '163                                '], ['Somalia', '27,254', '', '1,361                                '], ['Congo', '24,837', '', '386                                '], ['Timor-Leste', '23,312', '', '138                                '], ['Micronesia', '22,203', '', '55                                '], ['San Marino', '21,739', '', '119                                '], ['Burkina Faso', '21,631', '', '387                                '], ['Solomon Islands', '21,544', '', '153                                '], ['Liechtenstein', '20,736', '', '87                                '], ['Gibraltar', '20,121', '', '108                                '], ['Grenada', '19,604', '', '237                                '], ['Nicaragua', '18,491', '', '225                                '], ['Bermuda', '18,428', '', '149                                '], ['South Sudan', '18,325', '', '138                                '], ['Tajikistan', '17,786', '', '125                                '], ['Equatorial Guinea', '17,182', '', '183                                '], ['Tonga', '16,182', '', '12                                '], ['Samoa', '15,946', '', '29                                '], ['Dominica', '15,760', '', '74                                '], ['Djibouti', '15,690', '', '189                                '], ['Marshall Islands', '15,389', '', '17                                '], ['CAR', '15,289', '', '113                                '], ['Monaco', '15,057', '', '63                                '], ['Gambia', '12,580', '', '372                                '], ['Saint Martin', '12,026', '', '63                                '], ['Greenland', '11,971', '', '21                                '], ['Vanuatu', '11,952', '', '14                                '], ['Yemen', '11,945', '', '2,159                                '], ['Caribbean Netherlands', '11,340', '', '36                                '], ['Sint Maarten', '10,931', '', '89                                '], ['Eritrea', '10,189', '', '103                                '], ['Niger', '9,931', '', '312                                '], ['Antigua and Barbuda', '9,106', '', '146                                '], ['Comoros', '8,879', '', '161                                '], ['Guinea-Bissau', '8,848', '', '176                                '], ['Liberia', '7,998', '', '294                                '], ['Sierra Leone', '7,758', '', '126                                '], ['Chad', '7,631', '', '194                                '], ['British Virgin Islands', '7,305', '', '64                                '], ['St. Vincent Grenadines', '7,112', '', '115                                '], ['Saint Kitts and Nevis', '6,548', '', '46                                '], ['Turks and Caicos', '6,431', '', '36                                '], ['Cook Islands', '6,389', '', '1                                '], ['Sao Tome and Principe', '6,275', '', '77                                '], ['Palau', '5,530', '', '7                                '], ['St. Barth', '5,323', '', '6                                '], ['Nauru', '4,611', '', '1                                '], ['Anguilla', '3,904', '', '12                                '], ['Kiribati', '3,430', '', '13                                '], ['Saint Pierre Miquelon', '3,231', '', '1                                '], ['Falkland Islands', '1,930', '', ' '], ['Saint Helena', '1,800', '', ' '], ['Montserrat', '1,403', '', '8                                '], ['Tuvalu', '835', '', ' '], ['Macao', '795', '', '6                                '], ['Wallis and Futuna', '761', '', '7                                '], ['Diamond Princess', '712', '', '13                                '], ['Niue', '85', '', ' '], ['Vatican City', '29', '', ' '], ['Western Sahara', '10', '', '1                                '], ['MS Zaandam', '9', '', '2                                '], ['China', '268,753', '+1,209', '5,226                                '], ['118,343,936', '+1,064', '1,557,463', '+12'], ['195,575,691', '+163,224', '1,492,057', '+242'], ['235,607,419', '+8,794', '1,949,155', '+98'], ['64,570,003', '+33', '1,333,810', '+2'], ['12,738,753', '+10,512', '21,821', '+11'], ['12,685,305', '', '257,959', ''], ['721', '', '15', ''], ['639,521,828', '+183,627', '6,612,280', '+365']]\n"
          ]
        }
      ]
    },
    {
      "cell_type": "code",
      "source": [
        "# Creating a DataFrame\n",
        "\n",
        "df = pd.DataFrame(data)\n",
        "df.head()"
      ],
      "metadata": {
        "colab": {
          "base_uri": "https://localhost:8080/",
          "height": 206
        },
        "id": "UuJLbXhOymjW",
        "outputId": "142a381e-c842-415d-d431-fa194f8792ca"
      },
      "execution_count": 62,
      "outputs": [
        {
          "output_type": "execute_result",
          "data": {
            "text/plain": [
              "               0            1         2            3\n",
              "0  Country,Other   TotalCases  NewCases  TotalDeaths\n",
              "1                 118,343,936    +1,064    1,557,463\n",
              "2                 195,575,691  +163,224    1,492,057\n",
              "3                 235,607,419    +8,794    1,949,155\n",
              "4                  64,570,003       +33    1,333,810"
            ],
            "text/html": [
              "\n",
              "  <div id=\"df-253594cb-f4d6-4848-9104-5e505fe3b427\">\n",
              "    <div class=\"colab-df-container\">\n",
              "      <div>\n",
              "<style scoped>\n",
              "    .dataframe tbody tr th:only-of-type {\n",
              "        vertical-align: middle;\n",
              "    }\n",
              "\n",
              "    .dataframe tbody tr th {\n",
              "        vertical-align: top;\n",
              "    }\n",
              "\n",
              "    .dataframe thead th {\n",
              "        text-align: right;\n",
              "    }\n",
              "</style>\n",
              "<table border=\"1\" class=\"dataframe\">\n",
              "  <thead>\n",
              "    <tr style=\"text-align: right;\">\n",
              "      <th></th>\n",
              "      <th>0</th>\n",
              "      <th>1</th>\n",
              "      <th>2</th>\n",
              "      <th>3</th>\n",
              "    </tr>\n",
              "  </thead>\n",
              "  <tbody>\n",
              "    <tr>\n",
              "      <th>0</th>\n",
              "      <td>Country,Other</td>\n",
              "      <td>TotalCases</td>\n",
              "      <td>NewCases</td>\n",
              "      <td>TotalDeaths</td>\n",
              "    </tr>\n",
              "    <tr>\n",
              "      <th>1</th>\n",
              "      <td></td>\n",
              "      <td>118,343,936</td>\n",
              "      <td>+1,064</td>\n",
              "      <td>1,557,463</td>\n",
              "    </tr>\n",
              "    <tr>\n",
              "      <th>2</th>\n",
              "      <td></td>\n",
              "      <td>195,575,691</td>\n",
              "      <td>+163,224</td>\n",
              "      <td>1,492,057</td>\n",
              "    </tr>\n",
              "    <tr>\n",
              "      <th>3</th>\n",
              "      <td></td>\n",
              "      <td>235,607,419</td>\n",
              "      <td>+8,794</td>\n",
              "      <td>1,949,155</td>\n",
              "    </tr>\n",
              "    <tr>\n",
              "      <th>4</th>\n",
              "      <td></td>\n",
              "      <td>64,570,003</td>\n",
              "      <td>+33</td>\n",
              "      <td>1,333,810</td>\n",
              "    </tr>\n",
              "  </tbody>\n",
              "</table>\n",
              "</div>\n",
              "      <button class=\"colab-df-convert\" onclick=\"convertToInteractive('df-253594cb-f4d6-4848-9104-5e505fe3b427')\"\n",
              "              title=\"Convert this dataframe to an interactive table.\"\n",
              "              style=\"display:none;\">\n",
              "        \n",
              "  <svg xmlns=\"http://www.w3.org/2000/svg\" height=\"24px\"viewBox=\"0 0 24 24\"\n",
              "       width=\"24px\">\n",
              "    <path d=\"M0 0h24v24H0V0z\" fill=\"none\"/>\n",
              "    <path d=\"M18.56 5.44l.94 2.06.94-2.06 2.06-.94-2.06-.94-.94-2.06-.94 2.06-2.06.94zm-11 1L8.5 8.5l.94-2.06 2.06-.94-2.06-.94L8.5 2.5l-.94 2.06-2.06.94zm10 10l.94 2.06.94-2.06 2.06-.94-2.06-.94-.94-2.06-.94 2.06-2.06.94z\"/><path d=\"M17.41 7.96l-1.37-1.37c-.4-.4-.92-.59-1.43-.59-.52 0-1.04.2-1.43.59L10.3 9.45l-7.72 7.72c-.78.78-.78 2.05 0 2.83L4 21.41c.39.39.9.59 1.41.59.51 0 1.02-.2 1.41-.59l7.78-7.78 2.81-2.81c.8-.78.8-2.07 0-2.86zM5.41 20L4 18.59l7.72-7.72 1.47 1.35L5.41 20z\"/>\n",
              "  </svg>\n",
              "      </button>\n",
              "      \n",
              "  <style>\n",
              "    .colab-df-container {\n",
              "      display:flex;\n",
              "      flex-wrap:wrap;\n",
              "      gap: 12px;\n",
              "    }\n",
              "\n",
              "    .colab-df-convert {\n",
              "      background-color: #E8F0FE;\n",
              "      border: none;\n",
              "      border-radius: 50%;\n",
              "      cursor: pointer;\n",
              "      display: none;\n",
              "      fill: #1967D2;\n",
              "      height: 32px;\n",
              "      padding: 0 0 0 0;\n",
              "      width: 32px;\n",
              "    }\n",
              "\n",
              "    .colab-df-convert:hover {\n",
              "      background-color: #E2EBFA;\n",
              "      box-shadow: 0px 1px 2px rgba(60, 64, 67, 0.3), 0px 1px 3px 1px rgba(60, 64, 67, 0.15);\n",
              "      fill: #174EA6;\n",
              "    }\n",
              "\n",
              "    [theme=dark] .colab-df-convert {\n",
              "      background-color: #3B4455;\n",
              "      fill: #D2E3FC;\n",
              "    }\n",
              "\n",
              "    [theme=dark] .colab-df-convert:hover {\n",
              "      background-color: #434B5C;\n",
              "      box-shadow: 0px 1px 3px 1px rgba(0, 0, 0, 0.15);\n",
              "      filter: drop-shadow(0px 1px 2px rgba(0, 0, 0, 0.3));\n",
              "      fill: #FFFFFF;\n",
              "    }\n",
              "  </style>\n",
              "\n",
              "      <script>\n",
              "        const buttonEl =\n",
              "          document.querySelector('#df-253594cb-f4d6-4848-9104-5e505fe3b427 button.colab-df-convert');\n",
              "        buttonEl.style.display =\n",
              "          google.colab.kernel.accessAllowed ? 'block' : 'none';\n",
              "\n",
              "        async function convertToInteractive(key) {\n",
              "          const element = document.querySelector('#df-253594cb-f4d6-4848-9104-5e505fe3b427');\n",
              "          const dataTable =\n",
              "            await google.colab.kernel.invokeFunction('convertToInteractive',\n",
              "                                                     [key], {});\n",
              "          if (!dataTable) return;\n",
              "\n",
              "          const docLinkHtml = 'Like what you see? Visit the ' +\n",
              "            '<a target=\"_blank\" href=https://colab.research.google.com/notebooks/data_table.ipynb>data table notebook</a>'\n",
              "            + ' to learn more about interactive tables.';\n",
              "          element.innerHTML = '';\n",
              "          dataTable['output_type'] = 'display_data';\n",
              "          await google.colab.output.renderOutput(dataTable, element);\n",
              "          const docLink = document.createElement('div');\n",
              "          docLink.innerHTML = docLinkHtml;\n",
              "          element.appendChild(docLink);\n",
              "        }\n",
              "      </script>\n",
              "    </div>\n",
              "  </div>\n",
              "  "
            ]
          },
          "metadata": {},
          "execution_count": 62
        }
      ]
    },
    {
      "cell_type": "code",
      "source": [
        "# As our first country is ate index 9 we need to slice the dataframe\n",
        "\n",
        "df = pd.DataFrame(data[9:], columns = data[0])\n",
        "df.head()"
      ],
      "metadata": {
        "id": "nwsu7NedzYmK",
        "colab": {
          "base_uri": "https://localhost:8080/",
          "height": 206
        },
        "outputId": "eb2c049d-b14d-4bbd-ffb7-f1f3d05de63e"
      },
      "execution_count": 63,
      "outputs": [
        {
          "output_type": "execute_result",
          "data": {
            "text/plain": [
              "  Country,Other  TotalCases NewCases  \\\n",
              "0           USA  99,859,908            \n",
              "1         India  44,664,810            \n",
              "2        France  37,068,088            \n",
              "3       Germany  36,005,025            \n",
              "4        Brazil  34,928,504            \n",
              "\n",
              "                                 TotalDeaths  \n",
              "0  1,099,856                                  \n",
              "1    530,520                                  \n",
              "2    157,671                                  \n",
              "3    155,403                                  \n",
              "4    688,659                                  "
            ],
            "text/html": [
              "\n",
              "  <div id=\"df-0540a9da-2328-46e5-b70d-0278ddfbd95a\">\n",
              "    <div class=\"colab-df-container\">\n",
              "      <div>\n",
              "<style scoped>\n",
              "    .dataframe tbody tr th:only-of-type {\n",
              "        vertical-align: middle;\n",
              "    }\n",
              "\n",
              "    .dataframe tbody tr th {\n",
              "        vertical-align: top;\n",
              "    }\n",
              "\n",
              "    .dataframe thead th {\n",
              "        text-align: right;\n",
              "    }\n",
              "</style>\n",
              "<table border=\"1\" class=\"dataframe\">\n",
              "  <thead>\n",
              "    <tr style=\"text-align: right;\">\n",
              "      <th></th>\n",
              "      <th>Country,Other</th>\n",
              "      <th>TotalCases</th>\n",
              "      <th>NewCases</th>\n",
              "      <th>TotalDeaths</th>\n",
              "    </tr>\n",
              "  </thead>\n",
              "  <tbody>\n",
              "    <tr>\n",
              "      <th>0</th>\n",
              "      <td>USA</td>\n",
              "      <td>99,859,908</td>\n",
              "      <td></td>\n",
              "      <td>1,099,856</td>\n",
              "    </tr>\n",
              "    <tr>\n",
              "      <th>1</th>\n",
              "      <td>India</td>\n",
              "      <td>44,664,810</td>\n",
              "      <td></td>\n",
              "      <td>530,520</td>\n",
              "    </tr>\n",
              "    <tr>\n",
              "      <th>2</th>\n",
              "      <td>France</td>\n",
              "      <td>37,068,088</td>\n",
              "      <td></td>\n",
              "      <td>157,671</td>\n",
              "    </tr>\n",
              "    <tr>\n",
              "      <th>3</th>\n",
              "      <td>Germany</td>\n",
              "      <td>36,005,025</td>\n",
              "      <td></td>\n",
              "      <td>155,403</td>\n",
              "    </tr>\n",
              "    <tr>\n",
              "      <th>4</th>\n",
              "      <td>Brazil</td>\n",
              "      <td>34,928,504</td>\n",
              "      <td></td>\n",
              "      <td>688,659</td>\n",
              "    </tr>\n",
              "  </tbody>\n",
              "</table>\n",
              "</div>\n",
              "      <button class=\"colab-df-convert\" onclick=\"convertToInteractive('df-0540a9da-2328-46e5-b70d-0278ddfbd95a')\"\n",
              "              title=\"Convert this dataframe to an interactive table.\"\n",
              "              style=\"display:none;\">\n",
              "        \n",
              "  <svg xmlns=\"http://www.w3.org/2000/svg\" height=\"24px\"viewBox=\"0 0 24 24\"\n",
              "       width=\"24px\">\n",
              "    <path d=\"M0 0h24v24H0V0z\" fill=\"none\"/>\n",
              "    <path d=\"M18.56 5.44l.94 2.06.94-2.06 2.06-.94-2.06-.94-.94-2.06-.94 2.06-2.06.94zm-11 1L8.5 8.5l.94-2.06 2.06-.94-2.06-.94L8.5 2.5l-.94 2.06-2.06.94zm10 10l.94 2.06.94-2.06 2.06-.94-2.06-.94-.94-2.06-.94 2.06-2.06.94z\"/><path d=\"M17.41 7.96l-1.37-1.37c-.4-.4-.92-.59-1.43-.59-.52 0-1.04.2-1.43.59L10.3 9.45l-7.72 7.72c-.78.78-.78 2.05 0 2.83L4 21.41c.39.39.9.59 1.41.59.51 0 1.02-.2 1.41-.59l7.78-7.78 2.81-2.81c.8-.78.8-2.07 0-2.86zM5.41 20L4 18.59l7.72-7.72 1.47 1.35L5.41 20z\"/>\n",
              "  </svg>\n",
              "      </button>\n",
              "      \n",
              "  <style>\n",
              "    .colab-df-container {\n",
              "      display:flex;\n",
              "      flex-wrap:wrap;\n",
              "      gap: 12px;\n",
              "    }\n",
              "\n",
              "    .colab-df-convert {\n",
              "      background-color: #E8F0FE;\n",
              "      border: none;\n",
              "      border-radius: 50%;\n",
              "      cursor: pointer;\n",
              "      display: none;\n",
              "      fill: #1967D2;\n",
              "      height: 32px;\n",
              "      padding: 0 0 0 0;\n",
              "      width: 32px;\n",
              "    }\n",
              "\n",
              "    .colab-df-convert:hover {\n",
              "      background-color: #E2EBFA;\n",
              "      box-shadow: 0px 1px 2px rgba(60, 64, 67, 0.3), 0px 1px 3px 1px rgba(60, 64, 67, 0.15);\n",
              "      fill: #174EA6;\n",
              "    }\n",
              "\n",
              "    [theme=dark] .colab-df-convert {\n",
              "      background-color: #3B4455;\n",
              "      fill: #D2E3FC;\n",
              "    }\n",
              "\n",
              "    [theme=dark] .colab-df-convert:hover {\n",
              "      background-color: #434B5C;\n",
              "      box-shadow: 0px 1px 3px 1px rgba(0, 0, 0, 0.15);\n",
              "      filter: drop-shadow(0px 1px 2px rgba(0, 0, 0, 0.3));\n",
              "      fill: #FFFFFF;\n",
              "    }\n",
              "  </style>\n",
              "\n",
              "      <script>\n",
              "        const buttonEl =\n",
              "          document.querySelector('#df-0540a9da-2328-46e5-b70d-0278ddfbd95a button.colab-df-convert');\n",
              "        buttonEl.style.display =\n",
              "          google.colab.kernel.accessAllowed ? 'block' : 'none';\n",
              "\n",
              "        async function convertToInteractive(key) {\n",
              "          const element = document.querySelector('#df-0540a9da-2328-46e5-b70d-0278ddfbd95a');\n",
              "          const dataTable =\n",
              "            await google.colab.kernel.invokeFunction('convertToInteractive',\n",
              "                                                     [key], {});\n",
              "          if (!dataTable) return;\n",
              "\n",
              "          const docLinkHtml = 'Like what you see? Visit the ' +\n",
              "            '<a target=\"_blank\" href=https://colab.research.google.com/notebooks/data_table.ipynb>data table notebook</a>'\n",
              "            + ' to learn more about interactive tables.';\n",
              "          element.innerHTML = '';\n",
              "          dataTable['output_type'] = 'display_data';\n",
              "          await google.colab.output.renderOutput(dataTable, element);\n",
              "          const docLink = document.createElement('div');\n",
              "          docLink.innerHTML = docLinkHtml;\n",
              "          element.appendChild(docLink);\n",
              "        }\n",
              "      </script>\n",
              "    </div>\n",
              "  </div>\n",
              "  "
            ]
          },
          "metadata": {},
          "execution_count": 63
        }
      ]
    },
    {
      "cell_type": "code",
      "source": [
        "df.to_csv(\"covid19.csv\")"
      ],
      "metadata": {
        "id": "0hTCoULW0Jbh"
      },
      "execution_count": 64,
      "outputs": []
    },
    {
      "cell_type": "markdown",
      "source": [
        "**3. Visualizing The Data**"
      ],
      "metadata": {
        "id": "qCheA5o10VwV"
      }
    },
    {
      "cell_type": "code",
      "source": [
        "# getting the country and total cases columns\n",
        "\n",
        "df_plot = df[[\"Country,Other\",\"TotalCases\"]]\n",
        "\n",
        "# getting the first 10 rows\n",
        "df_plot = df_plot[:10]"
      ],
      "metadata": {
        "id": "GWMlNhUP0aB_"
      },
      "execution_count": 65,
      "outputs": []
    },
    {
      "cell_type": "code",
      "source": [
        "# Check the DataFrame\n",
        "\n",
        "df_plot.head()"
      ],
      "metadata": {
        "id": "mHcwfHK80_a8",
        "outputId": "c7732f33-3d0f-4212-bece-741a0a480fef",
        "colab": {
          "base_uri": "https://localhost:8080/",
          "height": 206
        }
      },
      "execution_count": 66,
      "outputs": [
        {
          "output_type": "execute_result",
          "data": {
            "text/plain": [
              "  Country,Other  TotalCases\n",
              "0           USA  99,859,908\n",
              "1         India  44,664,810\n",
              "2        France  37,068,088\n",
              "3       Germany  36,005,025\n",
              "4        Brazil  34,928,504"
            ],
            "text/html": [
              "\n",
              "  <div id=\"df-2edccdec-6f6d-4816-a9fa-5778489b6f26\">\n",
              "    <div class=\"colab-df-container\">\n",
              "      <div>\n",
              "<style scoped>\n",
              "    .dataframe tbody tr th:only-of-type {\n",
              "        vertical-align: middle;\n",
              "    }\n",
              "\n",
              "    .dataframe tbody tr th {\n",
              "        vertical-align: top;\n",
              "    }\n",
              "\n",
              "    .dataframe thead th {\n",
              "        text-align: right;\n",
              "    }\n",
              "</style>\n",
              "<table border=\"1\" class=\"dataframe\">\n",
              "  <thead>\n",
              "    <tr style=\"text-align: right;\">\n",
              "      <th></th>\n",
              "      <th>Country,Other</th>\n",
              "      <th>TotalCases</th>\n",
              "    </tr>\n",
              "  </thead>\n",
              "  <tbody>\n",
              "    <tr>\n",
              "      <th>0</th>\n",
              "      <td>USA</td>\n",
              "      <td>99,859,908</td>\n",
              "    </tr>\n",
              "    <tr>\n",
              "      <th>1</th>\n",
              "      <td>India</td>\n",
              "      <td>44,664,810</td>\n",
              "    </tr>\n",
              "    <tr>\n",
              "      <th>2</th>\n",
              "      <td>France</td>\n",
              "      <td>37,068,088</td>\n",
              "    </tr>\n",
              "    <tr>\n",
              "      <th>3</th>\n",
              "      <td>Germany</td>\n",
              "      <td>36,005,025</td>\n",
              "    </tr>\n",
              "    <tr>\n",
              "      <th>4</th>\n",
              "      <td>Brazil</td>\n",
              "      <td>34,928,504</td>\n",
              "    </tr>\n",
              "  </tbody>\n",
              "</table>\n",
              "</div>\n",
              "      <button class=\"colab-df-convert\" onclick=\"convertToInteractive('df-2edccdec-6f6d-4816-a9fa-5778489b6f26')\"\n",
              "              title=\"Convert this dataframe to an interactive table.\"\n",
              "              style=\"display:none;\">\n",
              "        \n",
              "  <svg xmlns=\"http://www.w3.org/2000/svg\" height=\"24px\"viewBox=\"0 0 24 24\"\n",
              "       width=\"24px\">\n",
              "    <path d=\"M0 0h24v24H0V0z\" fill=\"none\"/>\n",
              "    <path d=\"M18.56 5.44l.94 2.06.94-2.06 2.06-.94-2.06-.94-.94-2.06-.94 2.06-2.06.94zm-11 1L8.5 8.5l.94-2.06 2.06-.94-2.06-.94L8.5 2.5l-.94 2.06-2.06.94zm10 10l.94 2.06.94-2.06 2.06-.94-2.06-.94-.94-2.06-.94 2.06-2.06.94z\"/><path d=\"M17.41 7.96l-1.37-1.37c-.4-.4-.92-.59-1.43-.59-.52 0-1.04.2-1.43.59L10.3 9.45l-7.72 7.72c-.78.78-.78 2.05 0 2.83L4 21.41c.39.39.9.59 1.41.59.51 0 1.02-.2 1.41-.59l7.78-7.78 2.81-2.81c.8-.78.8-2.07 0-2.86zM5.41 20L4 18.59l7.72-7.72 1.47 1.35L5.41 20z\"/>\n",
              "  </svg>\n",
              "      </button>\n",
              "      \n",
              "  <style>\n",
              "    .colab-df-container {\n",
              "      display:flex;\n",
              "      flex-wrap:wrap;\n",
              "      gap: 12px;\n",
              "    }\n",
              "\n",
              "    .colab-df-convert {\n",
              "      background-color: #E8F0FE;\n",
              "      border: none;\n",
              "      border-radius: 50%;\n",
              "      cursor: pointer;\n",
              "      display: none;\n",
              "      fill: #1967D2;\n",
              "      height: 32px;\n",
              "      padding: 0 0 0 0;\n",
              "      width: 32px;\n",
              "    }\n",
              "\n",
              "    .colab-df-convert:hover {\n",
              "      background-color: #E2EBFA;\n",
              "      box-shadow: 0px 1px 2px rgba(60, 64, 67, 0.3), 0px 1px 3px 1px rgba(60, 64, 67, 0.15);\n",
              "      fill: #174EA6;\n",
              "    }\n",
              "\n",
              "    [theme=dark] .colab-df-convert {\n",
              "      background-color: #3B4455;\n",
              "      fill: #D2E3FC;\n",
              "    }\n",
              "\n",
              "    [theme=dark] .colab-df-convert:hover {\n",
              "      background-color: #434B5C;\n",
              "      box-shadow: 0px 1px 3px 1px rgba(0, 0, 0, 0.15);\n",
              "      filter: drop-shadow(0px 1px 2px rgba(0, 0, 0, 0.3));\n",
              "      fill: #FFFFFF;\n",
              "    }\n",
              "  </style>\n",
              "\n",
              "      <script>\n",
              "        const buttonEl =\n",
              "          document.querySelector('#df-2edccdec-6f6d-4816-a9fa-5778489b6f26 button.colab-df-convert');\n",
              "        buttonEl.style.display =\n",
              "          google.colab.kernel.accessAllowed ? 'block' : 'none';\n",
              "\n",
              "        async function convertToInteractive(key) {\n",
              "          const element = document.querySelector('#df-2edccdec-6f6d-4816-a9fa-5778489b6f26');\n",
              "          const dataTable =\n",
              "            await google.colab.kernel.invokeFunction('convertToInteractive',\n",
              "                                                     [key], {});\n",
              "          if (!dataTable) return;\n",
              "\n",
              "          const docLinkHtml = 'Like what you see? Visit the ' +\n",
              "            '<a target=\"_blank\" href=https://colab.research.google.com/notebooks/data_table.ipynb>data table notebook</a>'\n",
              "            + ' to learn more about interactive tables.';\n",
              "          element.innerHTML = '';\n",
              "          dataTable['output_type'] = 'display_data';\n",
              "          await google.colab.output.renderOutput(dataTable, element);\n",
              "          const docLink = document.createElement('div');\n",
              "          docLink.innerHTML = docLinkHtml;\n",
              "          element.appendChild(docLink);\n",
              "        }\n",
              "      </script>\n",
              "    </div>\n",
              "  </div>\n",
              "  "
            ]
          },
          "metadata": {},
          "execution_count": 66
        }
      ]
    },
    {
      "cell_type": "code",
      "source": [
        "# Our TotalCases axis is a string we need to convert it to int\n",
        "df_plot[\"TotalCases\"] = df_plot[\"TotalCases\"].apply(lambda x: str(x).replace(\",\",\"\")).astype(int)\n",
        "\n",
        "df_plot.head()"
      ],
      "metadata": {
        "id": "gV8PJXub1bx-",
        "outputId": "622399e9-eef5-45ef-f9b2-b41439b456cd",
        "colab": {
          "base_uri": "https://localhost:8080/",
          "height": 206
        }
      },
      "execution_count": 73,
      "outputs": [
        {
          "output_type": "execute_result",
          "data": {
            "text/plain": [
              "  Country,Other  TotalCases\n",
              "0           USA    99859908\n",
              "1         India    44664810\n",
              "2        France    37068088\n",
              "3       Germany    36005025\n",
              "4        Brazil    34928504"
            ],
            "text/html": [
              "\n",
              "  <div id=\"df-c0c3c06e-0889-4355-a01f-15276ae13540\">\n",
              "    <div class=\"colab-df-container\">\n",
              "      <div>\n",
              "<style scoped>\n",
              "    .dataframe tbody tr th:only-of-type {\n",
              "        vertical-align: middle;\n",
              "    }\n",
              "\n",
              "    .dataframe tbody tr th {\n",
              "        vertical-align: top;\n",
              "    }\n",
              "\n",
              "    .dataframe thead th {\n",
              "        text-align: right;\n",
              "    }\n",
              "</style>\n",
              "<table border=\"1\" class=\"dataframe\">\n",
              "  <thead>\n",
              "    <tr style=\"text-align: right;\">\n",
              "      <th></th>\n",
              "      <th>Country,Other</th>\n",
              "      <th>TotalCases</th>\n",
              "    </tr>\n",
              "  </thead>\n",
              "  <tbody>\n",
              "    <tr>\n",
              "      <th>0</th>\n",
              "      <td>USA</td>\n",
              "      <td>99859908</td>\n",
              "    </tr>\n",
              "    <tr>\n",
              "      <th>1</th>\n",
              "      <td>India</td>\n",
              "      <td>44664810</td>\n",
              "    </tr>\n",
              "    <tr>\n",
              "      <th>2</th>\n",
              "      <td>France</td>\n",
              "      <td>37068088</td>\n",
              "    </tr>\n",
              "    <tr>\n",
              "      <th>3</th>\n",
              "      <td>Germany</td>\n",
              "      <td>36005025</td>\n",
              "    </tr>\n",
              "    <tr>\n",
              "      <th>4</th>\n",
              "      <td>Brazil</td>\n",
              "      <td>34928504</td>\n",
              "    </tr>\n",
              "  </tbody>\n",
              "</table>\n",
              "</div>\n",
              "      <button class=\"colab-df-convert\" onclick=\"convertToInteractive('df-c0c3c06e-0889-4355-a01f-15276ae13540')\"\n",
              "              title=\"Convert this dataframe to an interactive table.\"\n",
              "              style=\"display:none;\">\n",
              "        \n",
              "  <svg xmlns=\"http://www.w3.org/2000/svg\" height=\"24px\"viewBox=\"0 0 24 24\"\n",
              "       width=\"24px\">\n",
              "    <path d=\"M0 0h24v24H0V0z\" fill=\"none\"/>\n",
              "    <path d=\"M18.56 5.44l.94 2.06.94-2.06 2.06-.94-2.06-.94-.94-2.06-.94 2.06-2.06.94zm-11 1L8.5 8.5l.94-2.06 2.06-.94-2.06-.94L8.5 2.5l-.94 2.06-2.06.94zm10 10l.94 2.06.94-2.06 2.06-.94-2.06-.94-.94-2.06-.94 2.06-2.06.94z\"/><path d=\"M17.41 7.96l-1.37-1.37c-.4-.4-.92-.59-1.43-.59-.52 0-1.04.2-1.43.59L10.3 9.45l-7.72 7.72c-.78.78-.78 2.05 0 2.83L4 21.41c.39.39.9.59 1.41.59.51 0 1.02-.2 1.41-.59l7.78-7.78 2.81-2.81c.8-.78.8-2.07 0-2.86zM5.41 20L4 18.59l7.72-7.72 1.47 1.35L5.41 20z\"/>\n",
              "  </svg>\n",
              "      </button>\n",
              "      \n",
              "  <style>\n",
              "    .colab-df-container {\n",
              "      display:flex;\n",
              "      flex-wrap:wrap;\n",
              "      gap: 12px;\n",
              "    }\n",
              "\n",
              "    .colab-df-convert {\n",
              "      background-color: #E8F0FE;\n",
              "      border: none;\n",
              "      border-radius: 50%;\n",
              "      cursor: pointer;\n",
              "      display: none;\n",
              "      fill: #1967D2;\n",
              "      height: 32px;\n",
              "      padding: 0 0 0 0;\n",
              "      width: 32px;\n",
              "    }\n",
              "\n",
              "    .colab-df-convert:hover {\n",
              "      background-color: #E2EBFA;\n",
              "      box-shadow: 0px 1px 2px rgba(60, 64, 67, 0.3), 0px 1px 3px 1px rgba(60, 64, 67, 0.15);\n",
              "      fill: #174EA6;\n",
              "    }\n",
              "\n",
              "    [theme=dark] .colab-df-convert {\n",
              "      background-color: #3B4455;\n",
              "      fill: #D2E3FC;\n",
              "    }\n",
              "\n",
              "    [theme=dark] .colab-df-convert:hover {\n",
              "      background-color: #434B5C;\n",
              "      box-shadow: 0px 1px 3px 1px rgba(0, 0, 0, 0.15);\n",
              "      filter: drop-shadow(0px 1px 2px rgba(0, 0, 0, 0.3));\n",
              "      fill: #FFFFFF;\n",
              "    }\n",
              "  </style>\n",
              "\n",
              "      <script>\n",
              "        const buttonEl =\n",
              "          document.querySelector('#df-c0c3c06e-0889-4355-a01f-15276ae13540 button.colab-df-convert');\n",
              "        buttonEl.style.display =\n",
              "          google.colab.kernel.accessAllowed ? 'block' : 'none';\n",
              "\n",
              "        async function convertToInteractive(key) {\n",
              "          const element = document.querySelector('#df-c0c3c06e-0889-4355-a01f-15276ae13540');\n",
              "          const dataTable =\n",
              "            await google.colab.kernel.invokeFunction('convertToInteractive',\n",
              "                                                     [key], {});\n",
              "          if (!dataTable) return;\n",
              "\n",
              "          const docLinkHtml = 'Like what you see? Visit the ' +\n",
              "            '<a target=\"_blank\" href=https://colab.research.google.com/notebooks/data_table.ipynb>data table notebook</a>'\n",
              "            + ' to learn more about interactive tables.';\n",
              "          element.innerHTML = '';\n",
              "          dataTable['output_type'] = 'display_data';\n",
              "          await google.colab.output.renderOutput(dataTable, element);\n",
              "          const docLink = document.createElement('div');\n",
              "          docLink.innerHTML = docLinkHtml;\n",
              "          element.appendChild(docLink);\n",
              "        }\n",
              "      </script>\n",
              "    </div>\n",
              "  </div>\n",
              "  "
            ]
          },
          "metadata": {},
          "execution_count": 73
        }
      ]
    },
    {
      "cell_type": "code",
      "source": [
        "df_plot.plot(kind = \"bar\", x = \"Country,Other\", y = \"TotalCases\")"
      ],
      "metadata": {
        "id": "NyV59ebV3Znz",
        "outputId": "f50ef98d-3611-4f2a-e542-08c5af5bd289",
        "colab": {
          "base_uri": "https://localhost:8080/",
          "height": 343
        }
      },
      "execution_count": 74,
      "outputs": [
        {
          "output_type": "execute_result",
          "data": {
            "text/plain": [
              "<matplotlib.axes._subplots.AxesSubplot at 0x7fd940784450>"
            ]
          },
          "metadata": {},
          "execution_count": 74
        },
        {
          "output_type": "display_data",
          "data": {
            "text/plain": [
              "<Figure size 432x288 with 1 Axes>"
            ],
            "image/png": "[encoded data removed]"
          },
          "metadata": {
            "needs_background": "light"
          }
        }
      ]
    }
  ]
}